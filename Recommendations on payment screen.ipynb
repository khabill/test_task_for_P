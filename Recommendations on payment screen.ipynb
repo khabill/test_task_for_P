{
 "cells": [
  {
   "cell_type": "markdown",
   "id": "9ac88224-f3ae-46c5-9e40-53bbd0b71ae7",
   "metadata": {
    "tags": []
   },
   "source": [
    "# Анализ эксперимента с предложением на экране оплаты"
   ]
  },
  {
   "cell_type": "markdown",
   "id": "becd6738-6ee0-4fa9-82d8-387505719d58",
   "metadata": {
    "jp-MarkdownHeadingCollapsed": true,
    "tags": []
   },
   "source": [
    "## Описание эксперимента"
   ]
  },
  {
   "cell_type": "markdown",
   "id": "b7b9ee23-94bf-4300-a513-12e48b0fd38a",
   "metadata": {},
   "source": [
    "Вариант A: экран оплаты без рекламного предложения \"Вам это пригодится\".</br>\n",
    "Вариант B: экран оплаты с рекламным предложением \"Вам это пригодится\""
   ]
  },
  {
   "cell_type": "markdown",
   "id": "dc9e214a-c9d8-476e-b3c0-c0a466990bc0",
   "metadata": {},
   "source": [
    "**Цель эксперимента:**</br>\n",
    "Увеличение выручки."
   ]
  },
  {
   "cell_type": "markdown",
   "id": "3f66155d-9091-4b11-b118-7194ac2d6fb1",
   "metadata": {
    "jp-MarkdownHeadingCollapsed": true,
    "tags": []
   },
   "source": [
    "## Данные"
   ]
  },
  {
   "cell_type": "markdown",
   "id": "f3add3fc-17b2-432e-bfc9-f191aafcb09c",
   "metadata": {},
   "source": [
    "Файлы с заказами (orders.csv) и посетителями по дням и группам (visitors.csv).\n",
    "\n",
    "Файл `orders.csv`. [Скачать датасет](https://code.s3.yandex.net/datasets/orders.csv)\n",
    "\n",
    "- `transactionId` — идентификатор заказа;\n",
    "- `visitorId` — идентификатор пользователя, совершившего заказ;\n",
    "- `date` — дата, когда был совершён заказ;\n",
    "- `revenue` — выручка заказа;\n",
    "- `group` — группа A/B-теста, в которую попал заказ.\n",
    "\n",
    "Файл `visitors.csv`. [Скачать датасет](https://code.s3.yandex.net/datasets/visitors.csv)\n",
    "\n",
    "- `date` — дата;\n",
    "- `group` — группа A/B-теста;\n",
    "- `visitors` — количество пользователей в указанную дату в указанной группе A/B-теста"
   ]
  },
  {
   "cell_type": "markdown",
   "id": "36dd4d0e-f171-4ea2-b754-83b08342359b",
   "metadata": {
    "tags": []
   },
   "source": [
    "## Результаты и рекомендации"
   ]
  },
  {
   "cell_type": "markdown",
   "id": "0fa7fbcf-1a2c-49b7-9efa-a18063652e77",
   "metadata": {},
   "source": [
    "В целом тест оказался удачным, так как действительно привёл к росту общего Revenue за счёт повышения конверсии.</br>\n",
    "С другой стороны, предложение не повысило стоимость заказов, хотя по идее рекламные предложения уже на этапе покупки должны повысить именно средний чек.</br>\n",
    "\n",
    "Предполагаю, что такое могло произойти при наличии минимальной суммы заказа или порога для бесплатной доставки. Люди, изначально не достигающие такого порога, благодаря рекомендациям смогли пополнить корзину по необходимого минимума, что и вызвало рост конверсии."
   ]
  },
  {
   "cell_type": "markdown",
   "id": "1a8b06dc-5210-45cc-9ad4-bb6ec458b316",
   "metadata": {},
   "source": [
    "**Общая сводка по группам:**"
   ]
  },
  {
   "cell_type": "code",
   "execution_count": 27,
   "id": "7b34e574-7ea8-4408-b955-4b2ddb5fa962",
   "metadata": {
    "tags": []
   },
   "outputs": [
    {
     "data": {
      "text/html": [
       "<div>\n",
       "<style scoped>\n",
       "    .dataframe tbody tr th:only-of-type {\n",
       "        vertical-align: middle;\n",
       "    }\n",
       "\n",
       "    .dataframe tbody tr th {\n",
       "        vertical-align: top;\n",
       "    }\n",
       "\n",
       "    .dataframe thead th {\n",
       "        text-align: right;\n",
       "    }\n",
       "</style>\n",
       "<table border=\"1\" class=\"dataframe\">\n",
       "  <thead>\n",
       "    <tr style=\"text-align: right;\">\n",
       "      <th></th>\n",
       "      <th>group</th>\n",
       "      <th>visitors</th>\n",
       "      <th>customers</th>\n",
       "      <th>orders</th>\n",
       "      <th>revenue</th>\n",
       "      <th>aov</th>\n",
       "      <th>mov</th>\n",
       "      <th>arpu</th>\n",
       "      <th>arppu</th>\n",
       "      <th>cr</th>\n",
       "      <th>orders_per_customer</th>\n",
       "    </tr>\n",
       "  </thead>\n",
       "  <tbody>\n",
       "    <tr>\n",
       "      <th>0</th>\n",
       "      <td>A</td>\n",
       "      <td>18736</td>\n",
       "      <td>503</td>\n",
       "      <td>557</td>\n",
       "      <td>4084803</td>\n",
       "      <td>7333.578</td>\n",
       "      <td>3000.0</td>\n",
       "      <td>218.019</td>\n",
       "      <td>8120.881</td>\n",
       "      <td>0.030</td>\n",
       "      <td>1.107</td>\n",
       "    </tr>\n",
       "    <tr>\n",
       "      <th>1</th>\n",
       "      <td>B</td>\n",
       "      <td>18916</td>\n",
       "      <td>586</td>\n",
       "      <td>640</td>\n",
       "      <td>5907760</td>\n",
       "      <td>9230.875</td>\n",
       "      <td>2965.0</td>\n",
       "      <td>312.316</td>\n",
       "      <td>10081.502</td>\n",
       "      <td>0.034</td>\n",
       "      <td>1.092</td>\n",
       "    </tr>\n",
       "  </tbody>\n",
       "</table>\n",
       "</div>"
      ],
      "text/plain": [
       "  group  visitors  customers  orders  revenue       aov     mov     arpu  \\\n",
       "0     A     18736        503     557  4084803  7333.578  3000.0  218.019   \n",
       "1     B     18916        586     640  5907760  9230.875  2965.0  312.316   \n",
       "\n",
       "       arppu     cr  orders_per_customer  \n",
       "0   8120.881  0.030                1.107  \n",
       "1  10081.502  0.034                1.092  "
      ]
     },
     "execution_count": 27,
     "metadata": {},
     "output_type": "execute_result"
    }
   ],
   "source": [
    "stats_total"
   ]
  },
  {
   "cell_type": "markdown",
   "id": "7efff3f1-a92b-4a7f-bf08-ba8aaf8efb0d",
   "metadata": {},
   "source": [
    "**Результаты:**</br>\n",
    "1. Конверсия в оплату значимо выше в группе B. Прирост составил 13,3% или 0.4 п.п. Доверительные интервалы: 3.12% — 3.64%.\n",
    "2. По AOV и ARPPU значимой разницы между группами нет.\n",
    "3. Предположительный прирост выручки из-за роста конверсии может составить от 5% до 22%."
   ]
  },
  {
   "cell_type": "markdown",
   "id": "a556a373-1574-4eb9-b70a-0c0a88d42214",
   "metadata": {},
   "source": [
    "**Рекомендации:**</br>\n",
    "1. Раскатить тест на 100% пользователей, так как изменения положительно влияют на конверсию.\n",
    "2. Провести дополнительные исследования по взаимодействию клиентов с рекламными предложениями. Нужно выяснить, почему выросла именно конверсия, а средний чек остался прежним.\n",
    "3. После исследований оптимизировать алгоритм рекомендаций и повторить эксперимент.\n",
    "4. Исследовать корзины пользователей c visitorId 1920142716, 2108080724 и проинтервьюировать их. Возможно, есть новый премиум или b2b сегмент."
   ]
  },
  {
   "cell_type": "markdown",
   "id": "dc6d7962-e4e0-460a-b336-632134be4c3f",
   "metadata": {
    "tags": []
   },
   "source": [
    "## Анализ"
   ]
  },
  {
   "cell_type": "markdown",
   "id": "872c5caa-0c14-4ca7-9b3f-89ac2bc84997",
   "metadata": {
    "jp-MarkdownHeadingCollapsed": true,
    "tags": []
   },
   "source": [
    "### Библиотеки и основные функции"
   ]
  },
  {
   "cell_type": "code",
   "execution_count": 1,
   "id": "cd261d7b-2b0f-4bfb-a574-5468e2c3b0d3",
   "metadata": {},
   "outputs": [],
   "source": [
    "import pandas as pd\n",
    "import numpy as np\n",
    "from scipy import stats\n",
    "\n",
    "import matplotlib.pyplot as plt\n",
    "import seaborn as sns"
   ]
  },
  {
   "cell_type": "code",
   "execution_count": 2,
   "id": "58101afa-7e84-48c3-bd77-7aeab5b3749b",
   "metadata": {},
   "outputs": [],
   "source": [
    "pd.set_option(\"display.precision\", 3)"
   ]
  },
  {
   "cell_type": "code",
   "execution_count": 3,
   "id": "0d180a36-3704-4f6b-8faa-22b33345aba1",
   "metadata": {
    "tags": []
   },
   "outputs": [],
   "source": [
    "#Сравнение двух выборок: проверка гипотезы о том, что разница между двумя бутстрап распределениями равна 0\n",
    "\n",
    "def bootstrap(a, b, iter_count=1000):\n",
    "    boot_list = []\n",
    "    boot_list1 = []\n",
    "    boot_list2 = []\n",
    "    \n",
    "    n=max(len(a),len(b))\n",
    "    \n",
    "    for i in range(iter_count):\n",
    "        s1 = pd.DataFrame(a).sample(n, replace=True)\n",
    "        s2 = pd.DataFrame(b).sample(n, replace=True)\n",
    "        mean_s1 = float(s1.mean())\n",
    "        mean_s2 = float(s2.mean())\n",
    "        boot_list1 = np.append(boot_list1,mean_s1)\n",
    "        boot_list2 = np.append(boot_list2,mean_s2)\n",
    "        mean_dif = mean_s1-mean_s2\n",
    "        boot_list = np.append(boot_list,mean_dif)\n",
    "        \n",
    "    m = np.mean(boot_list)\n",
    "    std = np.std(boot_list)\n",
    "    m1 = np.mean(boot_list1)\n",
    "    std1 = np.std(boot_list1)\n",
    "    m2 = np.mean(boot_list2)\n",
    "    std2 = np.std(boot_list2)\n",
    "    \n",
    "    p1 = stats.norm.sf(0, loc=m, scale=std)\n",
    "    p2 = stats.norm.sf(0, loc=-m, scale=std)\n",
    "    \n",
    "    p = min(p1, p2) * 2\n",
    "\n",
    "    return {'m':m, 'std':std, 'm1':m1, 'm2':m2, 'std1': std1, 'std2': std2, 'Kv1':std1/m1, 'Kv2':std2/m2, 'pvalue':p}, sns.distplot(boot_list1),sns.distplot(boot_list2);"
   ]
  },
  {
   "cell_type": "markdown",
   "id": "f0c8d089-a186-452e-a85c-4b24cc08dd15",
   "metadata": {
    "tags": []
   },
   "source": [
    "### Data Loading and Processing"
   ]
  },
  {
   "cell_type": "code",
   "execution_count": 4,
   "id": "75ba0e7c-a64f-4aa9-82f9-3426ee2ecff3",
   "metadata": {},
   "outputs": [],
   "source": [
    "orders = pd.read_csv('orders.csv')\n",
    "visitors = pd.read_csv('visitors.csv')"
   ]
  },
  {
   "cell_type": "code",
   "execution_count": 5,
   "id": "19c170cf-d623-4120-b6d2-85ee39d27071",
   "metadata": {},
   "outputs": [
    {
     "data": {
      "text/html": [
       "<div>\n",
       "<style scoped>\n",
       "    .dataframe tbody tr th:only-of-type {\n",
       "        vertical-align: middle;\n",
       "    }\n",
       "\n",
       "    .dataframe tbody tr th {\n",
       "        vertical-align: top;\n",
       "    }\n",
       "\n",
       "    .dataframe thead th {\n",
       "        text-align: right;\n",
       "    }\n",
       "</style>\n",
       "<table border=\"1\" class=\"dataframe\">\n",
       "  <thead>\n",
       "    <tr style=\"text-align: right;\">\n",
       "      <th></th>\n",
       "      <th>transactionId</th>\n",
       "      <th>visitorId</th>\n",
       "      <th>date</th>\n",
       "      <th>revenue</th>\n",
       "      <th>group</th>\n",
       "    </tr>\n",
       "  </thead>\n",
       "  <tbody>\n",
       "    <tr>\n",
       "      <th>0</th>\n",
       "      <td>3667963787</td>\n",
       "      <td>3312258926</td>\n",
       "      <td>2019-08-15</td>\n",
       "      <td>1650</td>\n",
       "      <td>B</td>\n",
       "    </tr>\n",
       "    <tr>\n",
       "      <th>1</th>\n",
       "      <td>2804400009</td>\n",
       "      <td>3642806036</td>\n",
       "      <td>2019-08-15</td>\n",
       "      <td>730</td>\n",
       "      <td>B</td>\n",
       "    </tr>\n",
       "    <tr>\n",
       "      <th>2</th>\n",
       "      <td>2961555356</td>\n",
       "      <td>4069496402</td>\n",
       "      <td>2019-08-15</td>\n",
       "      <td>400</td>\n",
       "      <td>A</td>\n",
       "    </tr>\n",
       "    <tr>\n",
       "      <th>3</th>\n",
       "      <td>3797467345</td>\n",
       "      <td>1196621759</td>\n",
       "      <td>2019-08-15</td>\n",
       "      <td>9759</td>\n",
       "      <td>B</td>\n",
       "    </tr>\n",
       "    <tr>\n",
       "      <th>4</th>\n",
       "      <td>2282983706</td>\n",
       "      <td>2322279887</td>\n",
       "      <td>2019-08-15</td>\n",
       "      <td>2308</td>\n",
       "      <td>B</td>\n",
       "    </tr>\n",
       "    <tr>\n",
       "      <th>...</th>\n",
       "      <td>...</td>\n",
       "      <td>...</td>\n",
       "      <td>...</td>\n",
       "      <td>...</td>\n",
       "      <td>...</td>\n",
       "    </tr>\n",
       "    <tr>\n",
       "      <th>1192</th>\n",
       "      <td>2662137336</td>\n",
       "      <td>3733762160</td>\n",
       "      <td>2019-08-14</td>\n",
       "      <td>6490</td>\n",
       "      <td>B</td>\n",
       "    </tr>\n",
       "    <tr>\n",
       "      <th>1193</th>\n",
       "      <td>2203539145</td>\n",
       "      <td>370388673</td>\n",
       "      <td>2019-08-14</td>\n",
       "      <td>3190</td>\n",
       "      <td>A</td>\n",
       "    </tr>\n",
       "    <tr>\n",
       "      <th>1194</th>\n",
       "      <td>1807773912</td>\n",
       "      <td>573423106</td>\n",
       "      <td>2019-08-14</td>\n",
       "      <td>10550</td>\n",
       "      <td>A</td>\n",
       "    </tr>\n",
       "    <tr>\n",
       "      <th>1195</th>\n",
       "      <td>1947021204</td>\n",
       "      <td>1614305549</td>\n",
       "      <td>2019-08-14</td>\n",
       "      <td>100</td>\n",
       "      <td>A</td>\n",
       "    </tr>\n",
       "    <tr>\n",
       "      <th>1196</th>\n",
       "      <td>3936777065</td>\n",
       "      <td>2108080724</td>\n",
       "      <td>2019-08-15</td>\n",
       "      <td>202740</td>\n",
       "      <td>B</td>\n",
       "    </tr>\n",
       "  </tbody>\n",
       "</table>\n",
       "<p>1197 rows × 5 columns</p>\n",
       "</div>"
      ],
      "text/plain": [
       "      transactionId   visitorId        date  revenue group\n",
       "0        3667963787  3312258926  2019-08-15     1650     B\n",
       "1        2804400009  3642806036  2019-08-15      730     B\n",
       "2        2961555356  4069496402  2019-08-15      400     A\n",
       "3        3797467345  1196621759  2019-08-15     9759     B\n",
       "4        2282983706  2322279887  2019-08-15     2308     B\n",
       "...             ...         ...         ...      ...   ...\n",
       "1192     2662137336  3733762160  2019-08-14     6490     B\n",
       "1193     2203539145   370388673  2019-08-14     3190     A\n",
       "1194     1807773912   573423106  2019-08-14    10550     A\n",
       "1195     1947021204  1614305549  2019-08-14      100     A\n",
       "1196     3936777065  2108080724  2019-08-15   202740     B\n",
       "\n",
       "[1197 rows x 5 columns]"
      ]
     },
     "execution_count": 5,
     "metadata": {},
     "output_type": "execute_result"
    }
   ],
   "source": [
    "orders"
   ]
  },
  {
   "cell_type": "code",
   "execution_count": 6,
   "id": "8e7b0ad7-b12e-4afe-9ae8-9dfd1bf5eb41",
   "metadata": {},
   "outputs": [
    {
     "data": {
      "text/html": [
       "<div>\n",
       "<style scoped>\n",
       "    .dataframe tbody tr th:only-of-type {\n",
       "        vertical-align: middle;\n",
       "    }\n",
       "\n",
       "    .dataframe tbody tr th {\n",
       "        vertical-align: top;\n",
       "    }\n",
       "\n",
       "    .dataframe thead th {\n",
       "        text-align: right;\n",
       "    }\n",
       "</style>\n",
       "<table border=\"1\" class=\"dataframe\">\n",
       "  <thead>\n",
       "    <tr style=\"text-align: right;\">\n",
       "      <th></th>\n",
       "      <th>date</th>\n",
       "      <th>group</th>\n",
       "      <th>visitors</th>\n",
       "    </tr>\n",
       "  </thead>\n",
       "  <tbody>\n",
       "    <tr>\n",
       "      <th>0</th>\n",
       "      <td>2019-08-01</td>\n",
       "      <td>A</td>\n",
       "      <td>719</td>\n",
       "    </tr>\n",
       "    <tr>\n",
       "      <th>1</th>\n",
       "      <td>2019-08-02</td>\n",
       "      <td>A</td>\n",
       "      <td>619</td>\n",
       "    </tr>\n",
       "    <tr>\n",
       "      <th>2</th>\n",
       "      <td>2019-08-03</td>\n",
       "      <td>A</td>\n",
       "      <td>507</td>\n",
       "    </tr>\n",
       "    <tr>\n",
       "      <th>3</th>\n",
       "      <td>2019-08-04</td>\n",
       "      <td>A</td>\n",
       "      <td>717</td>\n",
       "    </tr>\n",
       "    <tr>\n",
       "      <th>4</th>\n",
       "      <td>2019-08-05</td>\n",
       "      <td>A</td>\n",
       "      <td>756</td>\n",
       "    </tr>\n",
       "    <tr>\n",
       "      <th>...</th>\n",
       "      <td>...</td>\n",
       "      <td>...</td>\n",
       "      <td>...</td>\n",
       "    </tr>\n",
       "    <tr>\n",
       "      <th>57</th>\n",
       "      <td>2019-08-27</td>\n",
       "      <td>B</td>\n",
       "      <td>720</td>\n",
       "    </tr>\n",
       "    <tr>\n",
       "      <th>58</th>\n",
       "      <td>2019-08-28</td>\n",
       "      <td>B</td>\n",
       "      <td>654</td>\n",
       "    </tr>\n",
       "    <tr>\n",
       "      <th>59</th>\n",
       "      <td>2019-08-29</td>\n",
       "      <td>B</td>\n",
       "      <td>531</td>\n",
       "    </tr>\n",
       "    <tr>\n",
       "      <th>60</th>\n",
       "      <td>2019-08-30</td>\n",
       "      <td>B</td>\n",
       "      <td>490</td>\n",
       "    </tr>\n",
       "    <tr>\n",
       "      <th>61</th>\n",
       "      <td>2019-08-31</td>\n",
       "      <td>B</td>\n",
       "      <td>718</td>\n",
       "    </tr>\n",
       "  </tbody>\n",
       "</table>\n",
       "<p>62 rows × 3 columns</p>\n",
       "</div>"
      ],
      "text/plain": [
       "          date group  visitors\n",
       "0   2019-08-01     A       719\n",
       "1   2019-08-02     A       619\n",
       "2   2019-08-03     A       507\n",
       "3   2019-08-04     A       717\n",
       "4   2019-08-05     A       756\n",
       "..         ...   ...       ...\n",
       "57  2019-08-27     B       720\n",
       "58  2019-08-28     B       654\n",
       "59  2019-08-29     B       531\n",
       "60  2019-08-30     B       490\n",
       "61  2019-08-31     B       718\n",
       "\n",
       "[62 rows x 3 columns]"
      ]
     },
     "execution_count": 6,
     "metadata": {},
     "output_type": "execute_result"
    }
   ],
   "source": [
    "visitors"
   ]
  },
  {
   "cell_type": "markdown",
   "id": "3f0a9f59-0fd8-45ad-b874-1e81504f310b",
   "metadata": {},
   "source": [
    "Соберём из этого датасорсы тотал и по дням. Они пригодятся для более детального анализа эксперимента."
   ]
  },
  {
   "cell_type": "code",
   "execution_count": 7,
   "id": "cf2c6112-d1e5-4c59-89c7-2e46aa199959",
   "metadata": {},
   "outputs": [],
   "source": [
    "orders_by_day = orders \\\n",
    "    .groupby(['group', 'date']) \\\n",
    "    .agg(\n",
    "        customers = ('visitorId', pd.Series.nunique),\n",
    "        orders = ('transactionId', pd.Series.count),\n",
    "        revenue = ('revenue', pd.Series.sum),\n",
    "        aov = ('revenue', pd.Series.mean),\n",
    "        mov = ('revenue', pd.Series.median)\n",
    "    ) \\\n",
    "    .reset_index()\n",
    "\n",
    "stats_by_day = pd.merge(\n",
    "    left=visitors,\n",
    "    right=orders_by_day,\n",
    "    on=['date', 'group']\n",
    ")\n",
    "\n",
    "stats_by_day['arpu'] = stats_by_day['revenue'] / stats_by_day['visitors']\n",
    "stats_by_day['arppu'] = stats_by_day['revenue'] / stats_by_day['customers']\n",
    "stats_by_day['cr'] = stats_by_day['orders'] / stats_by_day['visitors']\n",
    "stats_by_day['orders_per_customer'] = stats_by_day['orders'] / stats_by_day['customers']\n",
    "\n",
    "stats_by_day['visitors_cum'] = stats_by_day.groupby('group')['visitors'].cumsum()\n",
    "stats_by_day['customers_cum'] = stats_by_day.groupby('group')['customers'].cumsum()\n",
    "stats_by_day['orders_cum'] = stats_by_day.groupby('group')['orders'].cumsum()\n",
    "stats_by_day['revenue_cum'] = stats_by_day.groupby('group')['revenue'].cumsum()"
   ]
  },
  {
   "cell_type": "code",
   "execution_count": 8,
   "id": "f59f14b6-8879-4bf7-83a5-5732b9687475",
   "metadata": {},
   "outputs": [
    {
     "data": {
      "text/html": [
       "<div>\n",
       "<style scoped>\n",
       "    .dataframe tbody tr th:only-of-type {\n",
       "        vertical-align: middle;\n",
       "    }\n",
       "\n",
       "    .dataframe tbody tr th {\n",
       "        vertical-align: top;\n",
       "    }\n",
       "\n",
       "    .dataframe thead th {\n",
       "        text-align: right;\n",
       "    }\n",
       "</style>\n",
       "<table border=\"1\" class=\"dataframe\">\n",
       "  <thead>\n",
       "    <tr style=\"text-align: right;\">\n",
       "      <th></th>\n",
       "      <th>date</th>\n",
       "      <th>group</th>\n",
       "      <th>visitors</th>\n",
       "      <th>customers</th>\n",
       "      <th>orders</th>\n",
       "      <th>revenue</th>\n",
       "      <th>aov</th>\n",
       "      <th>mov</th>\n",
       "      <th>arpu</th>\n",
       "      <th>arppu</th>\n",
       "      <th>cr</th>\n",
       "      <th>orders_per_customer</th>\n",
       "      <th>visitors_cum</th>\n",
       "      <th>customers_cum</th>\n",
       "      <th>orders_cum</th>\n",
       "      <th>revenue_cum</th>\n",
       "    </tr>\n",
       "  </thead>\n",
       "  <tbody>\n",
       "    <tr>\n",
       "      <th>0</th>\n",
       "      <td>2019-08-01</td>\n",
       "      <td>A</td>\n",
       "      <td>719</td>\n",
       "      <td>20</td>\n",
       "      <td>24</td>\n",
       "      <td>148579</td>\n",
       "      <td>6190.792</td>\n",
       "      <td>3167.5</td>\n",
       "      <td>206.647</td>\n",
       "      <td>7428.950</td>\n",
       "      <td>0.033</td>\n",
       "      <td>1.200</td>\n",
       "      <td>719</td>\n",
       "      <td>20</td>\n",
       "      <td>24</td>\n",
       "      <td>148579</td>\n",
       "    </tr>\n",
       "    <tr>\n",
       "      <th>1</th>\n",
       "      <td>2019-08-02</td>\n",
       "      <td>A</td>\n",
       "      <td>619</td>\n",
       "      <td>19</td>\n",
       "      <td>20</td>\n",
       "      <td>93822</td>\n",
       "      <td>4691.100</td>\n",
       "      <td>2430.0</td>\n",
       "      <td>151.570</td>\n",
       "      <td>4938.000</td>\n",
       "      <td>0.032</td>\n",
       "      <td>1.053</td>\n",
       "      <td>1338</td>\n",
       "      <td>39</td>\n",
       "      <td>44</td>\n",
       "      <td>242401</td>\n",
       "    </tr>\n",
       "    <tr>\n",
       "      <th>2</th>\n",
       "      <td>2019-08-03</td>\n",
       "      <td>A</td>\n",
       "      <td>507</td>\n",
       "      <td>24</td>\n",
       "      <td>24</td>\n",
       "      <td>112473</td>\n",
       "      <td>4686.375</td>\n",
       "      <td>3489.0</td>\n",
       "      <td>221.840</td>\n",
       "      <td>4686.375</td>\n",
       "      <td>0.047</td>\n",
       "      <td>1.000</td>\n",
       "      <td>1845</td>\n",
       "      <td>63</td>\n",
       "      <td>68</td>\n",
       "      <td>354874</td>\n",
       "    </tr>\n",
       "    <tr>\n",
       "      <th>3</th>\n",
       "      <td>2019-08-04</td>\n",
       "      <td>A</td>\n",
       "      <td>717</td>\n",
       "      <td>15</td>\n",
       "      <td>16</td>\n",
       "      <td>70825</td>\n",
       "      <td>4426.562</td>\n",
       "      <td>2285.0</td>\n",
       "      <td>98.780</td>\n",
       "      <td>4721.667</td>\n",
       "      <td>0.022</td>\n",
       "      <td>1.067</td>\n",
       "      <td>2562</td>\n",
       "      <td>78</td>\n",
       "      <td>84</td>\n",
       "      <td>425699</td>\n",
       "    </tr>\n",
       "    <tr>\n",
       "      <th>4</th>\n",
       "      <td>2019-08-05</td>\n",
       "      <td>A</td>\n",
       "      <td>756</td>\n",
       "      <td>25</td>\n",
       "      <td>25</td>\n",
       "      <td>124218</td>\n",
       "      <td>4968.720</td>\n",
       "      <td>1990.0</td>\n",
       "      <td>164.310</td>\n",
       "      <td>4968.720</td>\n",
       "      <td>0.033</td>\n",
       "      <td>1.000</td>\n",
       "      <td>3318</td>\n",
       "      <td>103</td>\n",
       "      <td>109</td>\n",
       "      <td>549917</td>\n",
       "    </tr>\n",
       "    <tr>\n",
       "      <th>...</th>\n",
       "      <td>...</td>\n",
       "      <td>...</td>\n",
       "      <td>...</td>\n",
       "      <td>...</td>\n",
       "      <td>...</td>\n",
       "      <td>...</td>\n",
       "      <td>...</td>\n",
       "      <td>...</td>\n",
       "      <td>...</td>\n",
       "      <td>...</td>\n",
       "      <td>...</td>\n",
       "      <td>...</td>\n",
       "      <td>...</td>\n",
       "      <td>...</td>\n",
       "      <td>...</td>\n",
       "      <td>...</td>\n",
       "    </tr>\n",
       "    <tr>\n",
       "      <th>57</th>\n",
       "      <td>2019-08-27</td>\n",
       "      <td>B</td>\n",
       "      <td>720</td>\n",
       "      <td>16</td>\n",
       "      <td>16</td>\n",
       "      <td>147677</td>\n",
       "      <td>9229.812</td>\n",
       "      <td>860.0</td>\n",
       "      <td>205.107</td>\n",
       "      <td>9229.812</td>\n",
       "      <td>0.022</td>\n",
       "      <td>1.000</td>\n",
       "      <td>16523</td>\n",
       "      <td>537</td>\n",
       "      <td>548</td>\n",
       "      <td>5232260</td>\n",
       "    </tr>\n",
       "    <tr>\n",
       "      <th>58</th>\n",
       "      <td>2019-08-28</td>\n",
       "      <td>B</td>\n",
       "      <td>654</td>\n",
       "      <td>27</td>\n",
       "      <td>28</td>\n",
       "      <td>96008</td>\n",
       "      <td>3428.857</td>\n",
       "      <td>1874.0</td>\n",
       "      <td>146.801</td>\n",
       "      <td>3555.852</td>\n",
       "      <td>0.043</td>\n",
       "      <td>1.037</td>\n",
       "      <td>17177</td>\n",
       "      <td>564</td>\n",
       "      <td>576</td>\n",
       "      <td>5328268</td>\n",
       "    </tr>\n",
       "    <tr>\n",
       "      <th>59</th>\n",
       "      <td>2019-08-29</td>\n",
       "      <td>B</td>\n",
       "      <td>531</td>\n",
       "      <td>20</td>\n",
       "      <td>20</td>\n",
       "      <td>231130</td>\n",
       "      <td>11556.500</td>\n",
       "      <td>4413.5</td>\n",
       "      <td>435.273</td>\n",
       "      <td>11556.500</td>\n",
       "      <td>0.038</td>\n",
       "      <td>1.000</td>\n",
       "      <td>17708</td>\n",
       "      <td>584</td>\n",
       "      <td>596</td>\n",
       "      <td>5559398</td>\n",
       "    </tr>\n",
       "    <tr>\n",
       "      <th>60</th>\n",
       "      <td>2019-08-30</td>\n",
       "      <td>B</td>\n",
       "      <td>490</td>\n",
       "      <td>24</td>\n",
       "      <td>24</td>\n",
       "      <td>215233</td>\n",
       "      <td>8968.042</td>\n",
       "      <td>2990.0</td>\n",
       "      <td>439.251</td>\n",
       "      <td>8968.042</td>\n",
       "      <td>0.049</td>\n",
       "      <td>1.000</td>\n",
       "      <td>18198</td>\n",
       "      <td>608</td>\n",
       "      <td>620</td>\n",
       "      <td>5774631</td>\n",
       "    </tr>\n",
       "    <tr>\n",
       "      <th>61</th>\n",
       "      <td>2019-08-31</td>\n",
       "      <td>B</td>\n",
       "      <td>718</td>\n",
       "      <td>20</td>\n",
       "      <td>20</td>\n",
       "      <td>133129</td>\n",
       "      <td>6656.450</td>\n",
       "      <td>2625.0</td>\n",
       "      <td>185.416</td>\n",
       "      <td>6656.450</td>\n",
       "      <td>0.028</td>\n",
       "      <td>1.000</td>\n",
       "      <td>18916</td>\n",
       "      <td>628</td>\n",
       "      <td>640</td>\n",
       "      <td>5907760</td>\n",
       "    </tr>\n",
       "  </tbody>\n",
       "</table>\n",
       "<p>62 rows × 16 columns</p>\n",
       "</div>"
      ],
      "text/plain": [
       "          date group  visitors  customers  orders  revenue        aov     mov  \\\n",
       "0   2019-08-01     A       719         20      24   148579   6190.792  3167.5   \n",
       "1   2019-08-02     A       619         19      20    93822   4691.100  2430.0   \n",
       "2   2019-08-03     A       507         24      24   112473   4686.375  3489.0   \n",
       "3   2019-08-04     A       717         15      16    70825   4426.562  2285.0   \n",
       "4   2019-08-05     A       756         25      25   124218   4968.720  1990.0   \n",
       "..         ...   ...       ...        ...     ...      ...        ...     ...   \n",
       "57  2019-08-27     B       720         16      16   147677   9229.812   860.0   \n",
       "58  2019-08-28     B       654         27      28    96008   3428.857  1874.0   \n",
       "59  2019-08-29     B       531         20      20   231130  11556.500  4413.5   \n",
       "60  2019-08-30     B       490         24      24   215233   8968.042  2990.0   \n",
       "61  2019-08-31     B       718         20      20   133129   6656.450  2625.0   \n",
       "\n",
       "       arpu      arppu     cr  orders_per_customer  visitors_cum  \\\n",
       "0   206.647   7428.950  0.033                1.200           719   \n",
       "1   151.570   4938.000  0.032                1.053          1338   \n",
       "2   221.840   4686.375  0.047                1.000          1845   \n",
       "3    98.780   4721.667  0.022                1.067          2562   \n",
       "4   164.310   4968.720  0.033                1.000          3318   \n",
       "..      ...        ...    ...                  ...           ...   \n",
       "57  205.107   9229.812  0.022                1.000         16523   \n",
       "58  146.801   3555.852  0.043                1.037         17177   \n",
       "59  435.273  11556.500  0.038                1.000         17708   \n",
       "60  439.251   8968.042  0.049                1.000         18198   \n",
       "61  185.416   6656.450  0.028                1.000         18916   \n",
       "\n",
       "    customers_cum  orders_cum  revenue_cum  \n",
       "0              20          24       148579  \n",
       "1              39          44       242401  \n",
       "2              63          68       354874  \n",
       "3              78          84       425699  \n",
       "4             103         109       549917  \n",
       "..            ...         ...          ...  \n",
       "57            537         548      5232260  \n",
       "58            564         576      5328268  \n",
       "59            584         596      5559398  \n",
       "60            608         620      5774631  \n",
       "61            628         640      5907760  \n",
       "\n",
       "[62 rows x 16 columns]"
      ]
     },
     "execution_count": 8,
     "metadata": {},
     "output_type": "execute_result"
    }
   ],
   "source": [
    "stats_by_day"
   ]
  },
  {
   "cell_type": "code",
   "execution_count": 9,
   "id": "71233c7d-282f-4ca4-b9ed-35601ee31100",
   "metadata": {},
   "outputs": [],
   "source": [
    "orders_total = orders \\\n",
    "    .groupby(['group']) \\\n",
    "    .agg(\n",
    "        customers = ('visitorId', pd.Series.nunique),\n",
    "        orders = ('transactionId', pd.Series.count),\n",
    "        revenue = ('revenue', pd.Series.sum),\n",
    "        aov = ('revenue', pd.Series.mean),\n",
    "        mov = ('revenue', pd.Series.median)\n",
    "    ) \\\n",
    "    .reset_index()\n",
    "\n",
    "visitors_total = visitors \\\n",
    "    .groupby(['group']) \\\n",
    "    .agg(\n",
    "        visitors = ('visitors', pd.Series.sum)\n",
    "    ) \\\n",
    "    .reset_index()\n",
    "\n",
    "stats_total = pd.merge(\n",
    "    left=visitors_total,\n",
    "    right=orders_total,\n",
    "    on='group'\n",
    ")\n",
    "\n",
    "stats_total['arpu'] = stats_total['revenue'] / stats_total['visitors']\n",
    "stats_total['arppu'] = stats_total['revenue'] / stats_total['customers']\n",
    "stats_total['cr'] = stats_total['orders'] / stats_total['visitors']\n",
    "stats_total['orders_per_customer'] = stats_total['orders'] / stats_total['customers']"
   ]
  },
  {
   "cell_type": "code",
   "execution_count": 10,
   "id": "13f5d579-5661-41b6-a200-69bf229e21f9",
   "metadata": {},
   "outputs": [
    {
     "data": {
      "text/html": [
       "<div>\n",
       "<style scoped>\n",
       "    .dataframe tbody tr th:only-of-type {\n",
       "        vertical-align: middle;\n",
       "    }\n",
       "\n",
       "    .dataframe tbody tr th {\n",
       "        vertical-align: top;\n",
       "    }\n",
       "\n",
       "    .dataframe thead th {\n",
       "        text-align: right;\n",
       "    }\n",
       "</style>\n",
       "<table border=\"1\" class=\"dataframe\">\n",
       "  <thead>\n",
       "    <tr style=\"text-align: right;\">\n",
       "      <th></th>\n",
       "      <th>group</th>\n",
       "      <th>visitors</th>\n",
       "      <th>customers</th>\n",
       "      <th>orders</th>\n",
       "      <th>revenue</th>\n",
       "      <th>aov</th>\n",
       "      <th>mov</th>\n",
       "      <th>arpu</th>\n",
       "      <th>arppu</th>\n",
       "      <th>cr</th>\n",
       "      <th>orders_per_customer</th>\n",
       "    </tr>\n",
       "  </thead>\n",
       "  <tbody>\n",
       "    <tr>\n",
       "      <th>0</th>\n",
       "      <td>A</td>\n",
       "      <td>18736</td>\n",
       "      <td>503</td>\n",
       "      <td>557</td>\n",
       "      <td>4084803</td>\n",
       "      <td>7333.578</td>\n",
       "      <td>3000.0</td>\n",
       "      <td>218.019</td>\n",
       "      <td>8120.881</td>\n",
       "      <td>0.030</td>\n",
       "      <td>1.107</td>\n",
       "    </tr>\n",
       "    <tr>\n",
       "      <th>1</th>\n",
       "      <td>B</td>\n",
       "      <td>18916</td>\n",
       "      <td>586</td>\n",
       "      <td>640</td>\n",
       "      <td>5907760</td>\n",
       "      <td>9230.875</td>\n",
       "      <td>2965.0</td>\n",
       "      <td>312.316</td>\n",
       "      <td>10081.502</td>\n",
       "      <td>0.034</td>\n",
       "      <td>1.092</td>\n",
       "    </tr>\n",
       "  </tbody>\n",
       "</table>\n",
       "</div>"
      ],
      "text/plain": [
       "  group  visitors  customers  orders  revenue       aov     mov     arpu  \\\n",
       "0     A     18736        503     557  4084803  7333.578  3000.0  218.019   \n",
       "1     B     18916        586     640  5907760  9230.875  2965.0  312.316   \n",
       "\n",
       "       arppu     cr  orders_per_customer  \n",
       "0   8120.881  0.030                1.107  \n",
       "1  10081.502  0.034                1.092  "
      ]
     },
     "execution_count": 10,
     "metadata": {},
     "output_type": "execute_result"
    }
   ],
   "source": [
    "stats_total"
   ]
  },
  {
   "cell_type": "markdown",
   "id": "d4de6c78-4554-4e3a-9191-fc6028a81e4c",
   "metadata": {
    "tags": []
   },
   "source": [
    "### Test analysis"
   ]
  },
  {
   "cell_type": "markdown",
   "id": "f6d8584e-1b86-4e6e-a7f5-343a26ebd3d0",
   "metadata": {
    "tags": []
   },
   "source": [
    "#### CR"
   ]
  },
  {
   "cell_type": "markdown",
   "id": "01f7fcac-2138-4016-894d-8ac27ebab193",
   "metadata": {},
   "source": [
    "Для оценки различий между группами воспользуемся критерием Хи-квадрат Пирсона и рассчитаем доверительные интервалы:"
   ]
  },
  {
   "cell_type": "code",
   "execution_count": 11,
   "id": "41a52f19-be06-4e76-b78c-04ff09e1e769",
   "metadata": {
    "tags": []
   },
   "outputs": [
    {
     "name": "stdout",
     "output_type": "stream",
     "text": [
      "Значение p-value: 0.03\n",
      "Доверительный интервал для группы A: 2.73% — 3.22%\n",
      "Доверительный интервал для группы B: 3.12% — 3.64%\n"
     ]
    }
   ],
   "source": [
    "cr_data = stats_total[['group','visitors', 'orders', 'cr']]\n",
    "\n",
    "stat, p, dof, expected = stats.chi2_contingency(cr_data[['visitors', 'orders']].values)\n",
    "\n",
    "\n",
    "cr_a = cr_data[cr_data['group'] == 'A']['cr'].values[0]\n",
    "cr_b = cr_data[cr_data['group'] == 'B']['cr'].values[0]\n",
    "visitors_a = cr_data[cr_data['group'] == 'A']['visitors'].values[0]\n",
    "visitors_b = cr_data[cr_data['group'] == 'B']['visitors'].values[0]\n",
    "\n",
    "ci_high_a = cr_a + (1.96 * (cr_a * ((1 - cr_a) / visitors_a))**0.5)\n",
    "ci_low_a = cr_a - (1.96 * (cr_a * ((1 - cr_a)**0.5 / visitors_a))**0.5)\n",
    "\n",
    "ci_high_b = cr_b + (1.96 * (cr_b * ((1 - cr_b)**0.5 / visitors_b))**0.5)\n",
    "ci_low_b = cr_b - (1.96 * (cr_b * ((1 - cr_b)**0.5 / visitors_b))**0.5)\n",
    "\n",
    "\n",
    "print(f'Значение p-value: {round(p, 3)}')\n",
    "print(f'Доверительный интервал для группы A: {round(ci_low_a * 100, 2)}% — {round(ci_high_a * 100, 2)}%')\n",
    "print(f'Доверительный интервал для группы B: {round(ci_low_b * 100, 2)}% — {round(ci_high_b * 100, 2)}%')"
   ]
  },
  {
   "cell_type": "markdown",
   "id": "b9c63711-8271-4f3a-81f1-bb09d04b8dc4",
   "metadata": {},
   "source": [
    "Так как p-value < 0.05, результат можно считать значимым.\n",
    "</br>\n",
    "Похоже, что в тестовой группе B конверсия в покупку действительно больше. Но посмотрим на динамику p-value по дням:"
   ]
  },
  {
   "cell_type": "code",
   "execution_count": 12,
   "id": "77099047-a42b-443f-907d-1d95a6156937",
   "metadata": {
    "tags": []
   },
   "outputs": [
    {
     "data": {
      "image/png": "[encoded data removed]",
      "text/plain": [
       "<Figure size 2880x576 with 1 Axes>"
      ]
     },
     "metadata": {
      "needs_background": "light"
     },
     "output_type": "display_data"
    }
   ],
   "source": [
    "cr_by_day = pd.DataFrame(columns=['date', 'p_value'])\n",
    "\n",
    "for date in sorted(stats_by_day['date'].unique()):\n",
    "    p_value = stats.chi2_contingency(stats_by_day[stats_by_day['date'] == date][['visitors_cum', 'orders_cum']].values)[1]\n",
    "    \n",
    "    cr_by_day = pd.concat([cr_by_day, pd.DataFrame([[date, p_value]], columns=cr_by_day.columns)], ignore_index=True)\n",
    "    \n",
    "\n",
    "plt.figure(figsize=(40,8))\n",
    "sns.lineplot(data=cr_by_day, x='date', y='p_value')\n",
    "sns.lineplot(data=cr_by_day, x='date', y=0.05, color='r')\n",
    "plt.show();"
   ]
  },
  {
   "cell_type": "markdown",
   "id": "3d1e6d23-6b1a-42ca-95a9-cd4b8c359a55",
   "metadata": {},
   "source": [
    "**Вывод:**\n",
    "\n",
    "Конверсия в заказ стат. значимо выше в тестовой группе B на 15% (0.4 п.п)."
   ]
  },
  {
   "cell_type": "markdown",
   "id": "1917b108-65a3-47f3-95d9-6305aa6106e9",
   "metadata": {
    "tags": []
   },
   "source": [
    "#### AOV"
   ]
  },
  {
   "cell_type": "markdown",
   "id": "016cc619-603d-41a2-866d-0f73a21e0ece",
   "metadata": {},
   "source": [
    "Прежде всего, посмотрим, на распределение квантилей AOV по группам:"
   ]
  },
  {
   "cell_type": "code",
   "execution_count": 13,
   "id": "659c1dad-a1b5-484a-b2ff-e9b7dcc7179b",
   "metadata": {
    "tags": []
   },
   "outputs": [
    {
     "data": {
      "image/png": "[encoded data removed]",
      "text/plain": [
       "<Figure size 1440x576 with 1 Axes>"
      ]
     },
     "metadata": {
      "needs_background": "light"
     },
     "output_type": "display_data"
    }
   ],
   "source": [
    "plt.figure(figsize=(20,8))\n",
    "ax = sns.boxplot(data=orders, x='revenue', y='group')\n",
    "\n",
    "ax.set(xlim=(0, 30000));"
   ]
  },
  {
   "cell_type": "markdown",
   "id": "59b125e8-5fee-4364-97fe-1c0c2a5cc2ee",
   "metadata": {},
   "source": [
    "На глаз разницы практически нет. Посмотрим на распределение плотности вероятности:"
   ]
  },
  {
   "cell_type": "code",
   "execution_count": 14,
   "id": "e528ae6c-f7e1-4462-9bf5-e5097c715cf6",
   "metadata": {
    "tags": []
   },
   "outputs": [
    {
     "data": {
      "text/plain": [
       "<Figure size 1440x576 with 0 Axes>"
      ]
     },
     "metadata": {},
     "output_type": "display_data"
    },
    {
     "data": {
      "image/png": "[encoded data removed]",
      "text/plain": [
       "<Figure size 402.875x360 with 1 Axes>"
      ]
     },
     "metadata": {
      "needs_background": "light"
     },
     "output_type": "display_data"
    }
   ],
   "source": [
    "plt.figure(figsize=(20,8))\n",
    "ax = sns.displot(data=orders, x=\"revenue\", hue=\"group\", kind=\"kde\")\n",
    "\n",
    "ax.set(xlim=(0, 100000));"
   ]
  },
  {
   "cell_type": "markdown",
   "id": "eb646d87-25d7-4c5a-b9c7-fee6ef60030f",
   "metadata": {},
   "source": [
    "Тут уже интереснее — у группы B плотность вероятности перераспределяется в сторону большего чека."
   ]
  },
  {
   "cell_type": "markdown",
   "id": "6ffd9ce9-2b7a-4422-8b07-b88bea878ca8",
   "metadata": {},
   "source": [
    "Попробуем убрать выбросы и посчитать значимость различий. Убирать выбросы буду с помощью межквартильного расстояния:"
   ]
  },
  {
   "cell_type": "code",
   "execution_count": 15,
   "id": "e63dd87b-61e4-4ada-b3ca-83fe31f78e20",
   "metadata": {},
   "outputs": [],
   "source": [
    "orders_a = orders[(orders['group'] == 'A')].copy()\n",
    "a_high_ci = orders_a['revenue'].quantile(.75) + 1.5 * (orders_a['revenue'].quantile(.75) - orders_a['revenue'].quantile(.25))\n",
    "a_low_ci = orders_a['revenue'].quantile(.75) - 1.5 * (orders_a['revenue'].quantile(.75) - orders_a['revenue'].quantile(.25))\n",
    "orders_a = orders_a[(orders_a['revenue'] <= a_high_ci) & (orders_a['revenue'] >= a_low_ci)]\n",
    "\n",
    "orders_b = orders[(orders['group'] == 'B')].copy()\n",
    "b_high_ci = orders_b['revenue'].quantile(.75) + 1.5 * (orders_b['revenue'].quantile(.75) - orders_b['revenue'].quantile(.25))\n",
    "b_low_ci = orders_b['revenue'].quantile(.75) - 1.5 * (orders_b['revenue'].quantile(.75) - orders_b['revenue'].quantile(.25))\n",
    "orders_b = orders_b[(orders_b['revenue'] <= b_high_ci) & (orders_b['revenue'] >= b_low_ci)]"
   ]
  },
  {
   "cell_type": "code",
   "execution_count": 16,
   "id": "155f1b8e-b77e-4fd5-9ffd-4749faaa68da",
   "metadata": {
    "tags": []
   },
   "outputs": [
    {
     "data": {
      "text/plain": [
       "<Figure size 1440x576 with 0 Axes>"
      ]
     },
     "metadata": {},
     "output_type": "display_data"
    },
    {
     "data": {
      "image/png": "[encoded data removed]",
      "text/plain": [
       "<Figure size 402.875x360 with 1 Axes>"
      ]
     },
     "metadata": {
      "needs_background": "light"
     },
     "output_type": "display_data"
    }
   ],
   "source": [
    "plt.figure(figsize=(20,8))\n",
    "ax = sns.displot(data=pd.concat([orders_a, orders_b]), x=\"revenue\", hue=\"group\", kind=\"kde\")\n",
    "\n",
    "ax.set(xlim=(0, 25000));"
   ]
  },
  {
   "cell_type": "code",
   "execution_count": 17,
   "id": "a6873f64-0107-458a-a067-5c54e4548bfa",
   "metadata": {},
   "outputs": [
    {
     "data": {
      "text/plain": [
       "(4442.257874015748, 4314.374784110535)"
      ]
     },
     "execution_count": 17,
     "metadata": {},
     "output_type": "execute_result"
    }
   ],
   "source": [
    "orders_a['revenue'].mean(), orders_b['revenue'].mean()"
   ]
  },
  {
   "cell_type": "code",
   "execution_count": 18,
   "id": "30b32612-e80c-4ef9-a921-323c72224aa0",
   "metadata": {},
   "outputs": [
    {
     "name": "stderr",
     "output_type": "stream",
     "text": [
      "/Users/billybob/.pyenv/versions/3.9.11/envs/data-analysys-3.9.11/lib/python3.9/site-packages/seaborn/distributions.py:2619: FutureWarning: `distplot` is a deprecated function and will be removed in a future version. Please adapt your code to use either `displot` (a figure-level function with similar flexibility) or `histplot` (an axes-level function for histograms).\n",
      "  warnings.warn(msg, FutureWarning)\n",
      "/Users/billybob/.pyenv/versions/3.9.11/envs/data-analysys-3.9.11/lib/python3.9/site-packages/seaborn/distributions.py:2619: FutureWarning: `distplot` is a deprecated function and will be removed in a future version. Please adapt your code to use either `displot` (a figure-level function with similar flexibility) or `histplot` (an axes-level function for histograms).\n",
      "  warnings.warn(msg, FutureWarning)\n"
     ]
    },
    {
     "data": {
      "text/plain": [
       "({'m': 120.59298100172711,\n",
       "  'std': 283.09789248091187,\n",
       "  'm1': 4443.914658031088,\n",
       "  'm2': 4323.321677029361,\n",
       "  'std1': 202.8598295505862,\n",
       "  'std2': 197.69838109319318,\n",
       "  'Kv1': 0.0456489030868259,\n",
       "  'Kv2': 0.04572835330380403,\n",
       "  'pvalue': 0.6701251459701286},\n",
       " <AxesSubplot:ylabel='Density'>,\n",
       " <AxesSubplot:ylabel='Density'>)"
      ]
     },
     "execution_count": 18,
     "metadata": {},
     "output_type": "execute_result"
    },
    {
     "data": {
      "image/png": "[encoded data removed]",
      "text/plain": [
       "<Figure size 432x288 with 1 Axes>"
      ]
     },
     "metadata": {
      "needs_background": "light"
     },
     "output_type": "display_data"
    }
   ],
   "source": [
    "bootstrap(a=orders_a['revenue'], b=orders_b['revenue'], iter_count=1000)"
   ]
  },
  {
   "cell_type": "markdown",
   "id": "4b377360-7f0a-4080-895a-f437898efe8b",
   "metadata": {},
   "source": [
    "Похоже, что на основную массу заказов рекламное предложение не действует — никакой стат. значимой разницы между группами нет.\n",
    "</br>\n",
    "Однако, если учитывать выбросы, то средний чек оказывается выше на 26%. Это может быть просто случайностью, но может объясняться и тем, что рекомендации могли  сильно увеличить корзины людей, которые готовы были потратить очень много."
   ]
  },
  {
   "cell_type": "markdown",
   "id": "80561f29-6202-4667-a3b2-56fab9946bc5",
   "metadata": {},
   "source": [
    "Можем посмотреть, есть ли среди выбросов какие-то заметные изменения или это просто случайность:"
   ]
  },
  {
   "cell_type": "code",
   "execution_count": 19,
   "id": "6c9e19b4-d188-4f9a-96b0-15b7f182a876",
   "metadata": {
    "tags": []
   },
   "outputs": [
    {
     "data": {
      "image/png": "[encoded data removed]",
      "text/plain": [
       "<Figure size 1440x576 with 1 Axes>"
      ]
     },
     "metadata": {
      "needs_background": "light"
     },
     "output_type": "display_data"
    }
   ],
   "source": [
    "outliers = orders[\n",
    "    ((orders['group'] == 'A') & (orders['revenue'] > a_high_ci)) \\\n",
    "    | ((orders['group'] == 'B') & (orders['revenue'] > b_high_ci))\n",
    "]\n",
    "\n",
    "\n",
    "plt.figure(figsize=(20,8))\n",
    "ax = sns.boxplot(data=outliers, x='revenue', y='group')\n",
    "\n",
    "ax.set(xlim=(0, 250000))\n",
    "plt.show();"
   ]
  },
  {
   "cell_type": "code",
   "execution_count": 20,
   "id": "25ce2f40-92ad-4da6-ae47-6d2aacbfddde",
   "metadata": {},
   "outputs": [
    {
     "data": {
      "text/html": [
       "<div>\n",
       "<style scoped>\n",
       "    .dataframe tbody tr th:only-of-type {\n",
       "        vertical-align: middle;\n",
       "    }\n",
       "\n",
       "    .dataframe tbody tr th {\n",
       "        vertical-align: top;\n",
       "    }\n",
       "\n",
       "    .dataframe thead th {\n",
       "        text-align: right;\n",
       "    }\n",
       "</style>\n",
       "<table border=\"1\" class=\"dataframe\">\n",
       "  <thead>\n",
       "    <tr style=\"text-align: right;\">\n",
       "      <th></th>\n",
       "      <th>transactionId</th>\n",
       "      <th>visitorId</th>\n",
       "      <th>date</th>\n",
       "      <th>revenue</th>\n",
       "      <th>group</th>\n",
       "    </tr>\n",
       "  </thead>\n",
       "  <tbody>\n",
       "    <tr>\n",
       "      <th>425</th>\n",
       "      <td>590470918</td>\n",
       "      <td>1920142716</td>\n",
       "      <td>2019-08-19</td>\n",
       "      <td>1294500</td>\n",
       "      <td>B</td>\n",
       "    </tr>\n",
       "    <tr>\n",
       "      <th>1196</th>\n",
       "      <td>3936777065</td>\n",
       "      <td>2108080724</td>\n",
       "      <td>2019-08-15</td>\n",
       "      <td>202740</td>\n",
       "      <td>B</td>\n",
       "    </tr>\n",
       "    <tr>\n",
       "      <th>744</th>\n",
       "      <td>3668308183</td>\n",
       "      <td>888512513</td>\n",
       "      <td>2019-08-27</td>\n",
       "      <td>86620</td>\n",
       "      <td>B</td>\n",
       "    </tr>\n",
       "    <tr>\n",
       "      <th>682</th>\n",
       "      <td>1216533772</td>\n",
       "      <td>4266935830</td>\n",
       "      <td>2019-08-29</td>\n",
       "      <td>78990</td>\n",
       "      <td>B</td>\n",
       "    </tr>\n",
       "    <tr>\n",
       "      <th>940</th>\n",
       "      <td>2420050534</td>\n",
       "      <td>4003628586</td>\n",
       "      <td>2019-08-08</td>\n",
       "      <td>58550</td>\n",
       "      <td>B</td>\n",
       "    </tr>\n",
       "    <tr>\n",
       "      <th>873</th>\n",
       "      <td>2519737434</td>\n",
       "      <td>4256040402</td>\n",
       "      <td>2019-08-08</td>\n",
       "      <td>58220</td>\n",
       "      <td>B</td>\n",
       "    </tr>\n",
       "    <tr>\n",
       "      <th>60</th>\n",
       "      <td>1421016313</td>\n",
       "      <td>4256040402</td>\n",
       "      <td>2019-08-16</td>\n",
       "      <td>56650</td>\n",
       "      <td>B</td>\n",
       "    </tr>\n",
       "    <tr>\n",
       "      <th>613</th>\n",
       "      <td>4071177889</td>\n",
       "      <td>3931967268</td>\n",
       "      <td>2019-08-07</td>\n",
       "      <td>53904</td>\n",
       "      <td>B</td>\n",
       "    </tr>\n",
       "    <tr>\n",
       "      <th>1142</th>\n",
       "      <td>3815014015</td>\n",
       "      <td>2606908679</td>\n",
       "      <td>2019-08-13</td>\n",
       "      <td>52900</td>\n",
       "      <td>B</td>\n",
       "    </tr>\n",
       "    <tr>\n",
       "      <th>755</th>\n",
       "      <td>1234615529</td>\n",
       "      <td>2279926127</td>\n",
       "      <td>2019-08-30</td>\n",
       "      <td>45780</td>\n",
       "      <td>B</td>\n",
       "    </tr>\n",
       "  </tbody>\n",
       "</table>\n",
       "</div>"
      ],
      "text/plain": [
       "      transactionId   visitorId        date  revenue group\n",
       "425       590470918  1920142716  2019-08-19  1294500     B\n",
       "1196     3936777065  2108080724  2019-08-15   202740     B\n",
       "744      3668308183   888512513  2019-08-27    86620     B\n",
       "682      1216533772  4266935830  2019-08-29    78990     B\n",
       "940      2420050534  4003628586  2019-08-08    58550     B\n",
       "873      2519737434  4256040402  2019-08-08    58220     B\n",
       "60       1421016313  4256040402  2019-08-16    56650     B\n",
       "613      4071177889  3931967268  2019-08-07    53904     B\n",
       "1142     3815014015  2606908679  2019-08-13    52900     B\n",
       "755      1234615529  2279926127  2019-08-30    45780     B"
      ]
     },
     "execution_count": 20,
     "metadata": {},
     "output_type": "execute_result"
    }
   ],
   "source": [
    "outliers[outliers['group'] == 'B'].sort_values(by='revenue', ascending=False).head(10)"
   ]
  },
  {
   "cell_type": "code",
   "execution_count": 21,
   "id": "aed4285c-3b8b-4f7d-8bd4-29c80bbad4df",
   "metadata": {},
   "outputs": [
    {
     "data": {
      "text/html": [
       "<div>\n",
       "<style scoped>\n",
       "    .dataframe tbody tr th:only-of-type {\n",
       "        vertical-align: middle;\n",
       "    }\n",
       "\n",
       "    .dataframe tbody tr th {\n",
       "        vertical-align: top;\n",
       "    }\n",
       "\n",
       "    .dataframe thead th {\n",
       "        text-align: right;\n",
       "    }\n",
       "</style>\n",
       "<table border=\"1\" class=\"dataframe\">\n",
       "  <thead>\n",
       "    <tr style=\"text-align: right;\">\n",
       "      <th></th>\n",
       "      <th>transactionId</th>\n",
       "      <th>visitorId</th>\n",
       "      <th>date</th>\n",
       "      <th>revenue</th>\n",
       "      <th>group</th>\n",
       "    </tr>\n",
       "  </thead>\n",
       "  <tbody>\n",
       "    <tr>\n",
       "      <th>858</th>\n",
       "      <td>192721366</td>\n",
       "      <td>1316129916</td>\n",
       "      <td>2019-08-27</td>\n",
       "      <td>93940</td>\n",
       "      <td>A</td>\n",
       "    </tr>\n",
       "    <tr>\n",
       "      <th>1136</th>\n",
       "      <td>666610489</td>\n",
       "      <td>1307669133</td>\n",
       "      <td>2019-08-13</td>\n",
       "      <td>92550</td>\n",
       "      <td>A</td>\n",
       "    </tr>\n",
       "    <tr>\n",
       "      <th>662</th>\n",
       "      <td>1811671147</td>\n",
       "      <td>4266935830</td>\n",
       "      <td>2019-08-29</td>\n",
       "      <td>78990</td>\n",
       "      <td>A</td>\n",
       "    </tr>\n",
       "    <tr>\n",
       "      <th>743</th>\n",
       "      <td>3603576309</td>\n",
       "      <td>4133034833</td>\n",
       "      <td>2019-08-09</td>\n",
       "      <td>67990</td>\n",
       "      <td>A</td>\n",
       "    </tr>\n",
       "    <tr>\n",
       "      <th>1103</th>\n",
       "      <td>1348774318</td>\n",
       "      <td>1164614297</td>\n",
       "      <td>2019-08-12</td>\n",
       "      <td>66350</td>\n",
       "      <td>A</td>\n",
       "    </tr>\n",
       "    <tr>\n",
       "      <th>1099</th>\n",
       "      <td>316924019</td>\n",
       "      <td>148427295</td>\n",
       "      <td>2019-08-12</td>\n",
       "      <td>65710</td>\n",
       "      <td>A</td>\n",
       "    </tr>\n",
       "    <tr>\n",
       "      <th>949</th>\n",
       "      <td>1347999392</td>\n",
       "      <td>887908475</td>\n",
       "      <td>2019-08-21</td>\n",
       "      <td>60450</td>\n",
       "      <td>A</td>\n",
       "    </tr>\n",
       "    <tr>\n",
       "      <th>1029</th>\n",
       "      <td>469609643</td>\n",
       "      <td>2378935119</td>\n",
       "      <td>2019-08-10</td>\n",
       "      <td>58220</td>\n",
       "      <td>A</td>\n",
       "    </tr>\n",
       "    <tr>\n",
       "      <th>131</th>\n",
       "      <td>3163614039</td>\n",
       "      <td>2254586615</td>\n",
       "      <td>2019-08-22</td>\n",
       "      <td>53904</td>\n",
       "      <td>A</td>\n",
       "    </tr>\n",
       "    <tr>\n",
       "      <th>287</th>\n",
       "      <td>587872075</td>\n",
       "      <td>2254456485</td>\n",
       "      <td>2019-08-24</td>\n",
       "      <td>53904</td>\n",
       "      <td>A</td>\n",
       "    </tr>\n",
       "  </tbody>\n",
       "</table>\n",
       "</div>"
      ],
      "text/plain": [
       "      transactionId   visitorId        date  revenue group\n",
       "858       192721366  1316129916  2019-08-27    93940     A\n",
       "1136      666610489  1307669133  2019-08-13    92550     A\n",
       "662      1811671147  4266935830  2019-08-29    78990     A\n",
       "743      3603576309  4133034833  2019-08-09    67990     A\n",
       "1103     1348774318  1164614297  2019-08-12    66350     A\n",
       "1099      316924019   148427295  2019-08-12    65710     A\n",
       "949      1347999392   887908475  2019-08-21    60450     A\n",
       "1029      469609643  2378935119  2019-08-10    58220     A\n",
       "131      3163614039  2254586615  2019-08-22    53904     A\n",
       "287       587872075  2254456485  2019-08-24    53904     A"
      ]
     },
     "execution_count": 21,
     "metadata": {},
     "output_type": "execute_result"
    }
   ],
   "source": [
    "outliers[outliers['group'] == 'A'].sort_values(by='revenue', ascending=False).head(10)"
   ]
  },
  {
   "cell_type": "markdown",
   "id": "a7748969-96d4-40d9-aeb0-d27acacd2516",
   "metadata": {},
   "source": [
    "Даже выбросы не различаются между группами, кроме аномально большого заказа почти на 1,3 млн в группе B. Именно этот заказ и ещё один заказ на 202 тыс так сильно увеличивают средний чек группы B."
   ]
  },
  {
   "cell_type": "markdown",
   "id": "c6f922c8-71e0-482a-a1d3-94c7e7f1189f",
   "metadata": {},
   "source": [
    "**Вывод:**\n",
    "</br>\n",
    "Какой-либо значимой разницы в среднем чеке между группами нет."
   ]
  },
  {
   "cell_type": "markdown",
   "id": "a5763ff5-47ed-4bc7-82fc-ff6f96667fce",
   "metadata": {
    "tags": []
   },
   "source": [
    "#### ARPPU"
   ]
  },
  {
   "cell_type": "markdown",
   "id": "3e226633-bdc4-43d7-915e-453de6da3e8b",
   "metadata": {},
   "source": [
    "Для начала нужно сагрегировать данные по покупателям:"
   ]
  },
  {
   "cell_type": "code",
   "execution_count": 22,
   "id": "3bd62da7-b7a4-4990-ab37-55c5326ff6fd",
   "metadata": {},
   "outputs": [],
   "source": [
    "orders_by_customers = \\\n",
    "    orders \\\n",
    "    .groupby(['visitorId', 'group']) \\\n",
    "    .agg(\n",
    "        dates = ('date', pd.Series.nunique),\n",
    "        orders = ('transactionId', pd.Series.count),\n",
    "        revenue = ('revenue', pd.Series.sum)\n",
    "    ) \\\n",
    "    .reset_index()"
   ]
  },
  {
   "cell_type": "code",
   "execution_count": 23,
   "id": "29fd72a5-64d7-4bb0-872e-6a07bf011273",
   "metadata": {
    "tags": []
   },
   "outputs": [
    {
     "data": {
      "image/png": "[encoded data removed]",
      "text/plain": [
       "<Figure size 1440x576 with 1 Axes>"
      ]
     },
     "metadata": {
      "needs_background": "light"
     },
     "output_type": "display_data"
    }
   ],
   "source": [
    "plt.figure(figsize=(20,8))\n",
    "ax = sns.boxplot(data=orders_by_customers, x='revenue', y='group')\n",
    "\n",
    "ax.set(xlim=(0, 30000));"
   ]
  },
  {
   "cell_type": "markdown",
   "id": "39843de7-9934-493d-9bd3-ff53a828594c",
   "metadata": {},
   "source": [
    "Похоже, здесь такая же ситуация, что и с AOV."
   ]
  },
  {
   "cell_type": "code",
   "execution_count": 24,
   "id": "2514e555-1a56-4951-b30e-d89ea72c281d",
   "metadata": {},
   "outputs": [],
   "source": [
    "orders_a = orders_by_customers[(orders_by_customers['group'] == 'A')].copy()\n",
    "a_high_ci = orders_a['revenue'].quantile(.75) + 1.5 * (orders_a['revenue'].quantile(.75) - orders_a['revenue'].quantile(.25))\n",
    "a_low_ci = orders_a['revenue'].quantile(.75) - 1.5 * (orders_a['revenue'].quantile(.75) - orders_a['revenue'].quantile(.25))\n",
    "orders_a = orders_a[(orders_a['revenue'] <= a_high_ci) & (orders_a['revenue'] >= a_low_ci)]\n",
    "\n",
    "orders_b = orders_by_customers[(orders_by_customers['group'] == 'B')].copy()\n",
    "b_high_ci = orders_b['revenue'].quantile(.75) + 1.5 * (orders_b['revenue'].quantile(.75) - orders_b['revenue'].quantile(.25))\n",
    "b_low_ci = orders_b['revenue'].quantile(.75) - 1.5 * (orders_b['revenue'].quantile(.75) - orders_b['revenue'].quantile(.25))\n",
    "orders_b = orders_b[(orders_b['revenue'] <= b_high_ci) & (orders_b['revenue'] >= b_low_ci)]"
   ]
  },
  {
   "cell_type": "code",
   "execution_count": 25,
   "id": "14c3fd5f-ead3-4fd0-80c0-d8373af98c4f",
   "metadata": {},
   "outputs": [
    {
     "data": {
      "text/plain": [
       "(4757.257641921397, 4774.310986964619)"
      ]
     },
     "execution_count": 25,
     "metadata": {},
     "output_type": "execute_result"
    }
   ],
   "source": [
    "orders_a['revenue'].mean(), orders_b['revenue'].mean()"
   ]
  },
  {
   "cell_type": "code",
   "execution_count": 26,
   "id": "a14b80cd-ebd2-4723-9046-38216e3f8d6d",
   "metadata": {},
   "outputs": [
    {
     "name": "stderr",
     "output_type": "stream",
     "text": [
      "/Users/billybob/.pyenv/versions/3.9.11/envs/data-analysys-3.9.11/lib/python3.9/site-packages/seaborn/distributions.py:2619: FutureWarning: `distplot` is a deprecated function and will be removed in a future version. Please adapt your code to use either `displot` (a figure-level function with similar flexibility) or `histplot` (an axes-level function for histograms).\n",
      "  warnings.warn(msg, FutureWarning)\n",
      "/Users/billybob/.pyenv/versions/3.9.11/envs/data-analysys-3.9.11/lib/python3.9/site-packages/seaborn/distributions.py:2619: FutureWarning: `distplot` is a deprecated function and will be removed in a future version. Please adapt your code to use either `displot` (a figure-level function with similar flexibility) or `histplot` (an axes-level function for histograms).\n",
      "  warnings.warn(msg, FutureWarning)\n"
     ]
    },
    {
     "data": {
      "text/plain": [
       "({'m': -21.668476722532574,\n",
       "  'std': 307.10581504418377,\n",
       "  'm1': 4750.932158286778,\n",
       "  'm2': 4772.600635009311,\n",
       "  'std1': 215.41488850078434,\n",
       "  'std2': 220.872707199337,\n",
       "  'Kv1': 0.045341604831180035,\n",
       "  'Kv2': 0.04627931898997161,\n",
       "  'pvalue': 0.9437503037037633},\n",
       " <AxesSubplot:ylabel='Density'>,\n",
       " <AxesSubplot:ylabel='Density'>)"
      ]
     },
     "execution_count": 26,
     "metadata": {},
     "output_type": "execute_result"
    },
    {
     "data": {
      "image/png": "[encoded data removed]",
      "text/plain": [
       "<Figure size 432x288 with 1 Axes>"
      ]
     },
     "metadata": {
      "needs_background": "light"
     },
     "output_type": "display_data"
    }
   ],
   "source": [
    "bootstrap(a=orders_a['revenue'], b=orders_b['revenue'], iter_count=1000)"
   ]
  },
  {
   "cell_type": "markdown",
   "id": "9c7273fc-8d41-4929-ab64-70beeb2357fd",
   "metadata": {},
   "source": [
    "**Вывод:**\n",
    "</br>\n",
    "По ARPPU между группами практически нет различий."
   ]
  }
 ],
 "metadata": {
  "kernelspec": {
   "display_name": "Python 3 (ipykernel)",
   "language": "python",
   "name": "python3"
  },
  "language_info": {
   "codemirror_mode": {
    "name": "ipython",
    "version": 3
   },
   "file_extension": ".py",
   "mimetype": "text/x-python",
   "name": "python",
   "nbconvert_exporter": "python",
   "pygments_lexer": "ipython3",
   "version": "3.9.11"
  }
 },
 "nbformat": 4,
 "nbformat_minor": 5
}
